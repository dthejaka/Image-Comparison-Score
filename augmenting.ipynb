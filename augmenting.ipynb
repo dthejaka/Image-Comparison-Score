{
 "cells": [
  {
   "cell_type": "markdown",
   "metadata": {},
   "source": [
    "Dove Intense Repair, 180ml"
   ]
  },
  {
   "cell_type": "code",
   "execution_count": 31,
   "metadata": {},
   "outputs": [],
   "source": [
    "# example of horizontal flip image augmentation\n",
    "import cv2\n",
    "from numpy import expand_dims\n",
    "from tensorflow.keras.preprocessing.image import load_img, img_to_array, ImageDataGenerator, array_to_img\n",
    "\n",
    "from matplotlib import pyplot\n",
    "# load the image\n",
    "img = load_img('New folder\\\\train\\\\Dove Anti Dandruff Shampoo, 180ml\\\\13112021062548_32013 - Copy - Copy (2).jpg')\n",
    "# convert to numpy array\n",
    "data = img_to_array(img)\n",
    "# expand dimension to one sample\n",
    "samples = expand_dims(data, 0)\n",
    "# create image data augmentation generator\n",
    "datagen = ImageDataGenerator(horizontal_flip=False, zoom_range=[0.5,1.0], width_shift_range=[-200,200], height_shift_range = 0.2, brightness_range=[0.01,1.5])\n",
    "# prepare iterator\n",
    "it = datagen.flow(samples, batch_size=1)\n",
    "\n",
    "#image_set = []\n",
    "# generate samples and plot\n",
    "for i in range(1,81):\n",
    "\t# define subplot\n",
    "\t#pyplot.subplot(330 + 1 + i)\n",
    "\t# generate batch of images\n",
    "\tbatch = it.next()\n",
    "\t# convert to unsigned integers for viewing\n",
    "\timage = batch[0].astype('uint8')\n",
    "\timage1 = array_to_img(image)\n",
    "\timage1.save(\"New folder\\\\train\\\\Dove Anti Dandruff Shampoo, 180ml\\\\{}.jpg\".format(i))\n",
    "\t#image_set.append(image1)\n",
    "\t# plot raw pixel data\n",
    "\t#pyplot.imshow(image)\n",
    "# show the figure\n",
    "#pyplot.show()"
   ]
  },
  {
   "cell_type": "code",
   "execution_count": 32,
   "metadata": {},
   "outputs": [],
   "source": [
    "\n",
    "# load the image\n",
    "img = load_img('New folder\\\\train\\\\Dove Intense Repair Shampoo, 180ml\\\\c86835aff98a7d854e4d7a0e04c3d37b832b4b7e.jpg')\n",
    "# convert to numpy array\n",
    "data = img_to_array(img)\n",
    "# expand dimension to one sample\n",
    "samples = expand_dims(data, 0)\n",
    "# create image data augmentation generator\n",
    "datagen = ImageDataGenerator(horizontal_flip=False, zoom_range=[0.5,1.0], width_shift_range=[-200,200], brightness_range=[0.2,1.0])\n",
    "# prepare iterator\n",
    "it = datagen.flow(samples, batch_size=1)\n",
    "\n",
    "#image_set = []\n",
    "# generate samples and plot\n",
    "for i in range(1,81):\n",
    "\t# define subplot\n",
    "\t#pyplot.subplot(330 + 1 + i)\n",
    "\t# generate batch of images\n",
    "\tbatch = it.next()\n",
    "\t# convert to unsigned integers for viewing\n",
    "\timage = batch[0].astype('uint8')\n",
    "\timage1 = array_to_img(image)\n",
    "\timage1.save(\"New folder\\\\train\\\\Dove Intense Repair Shampoo, 180ml\\\\{}.jpg\".format(i))\n",
    "\t#image_set.append(image1)\n",
    "\t# plot raw pixel data\n",
    "\t#pyplot.imshow(image)\n",
    "# show the figure\n",
    "#pyplot.show()"
   ]
  },
  {
   "cell_type": "markdown",
   "metadata": {},
   "source": [
    "Lifebuoy Kitchen Fresh"
   ]
  },
  {
   "cell_type": "code",
   "execution_count": 36,
   "metadata": {},
   "outputs": [],
   "source": [
    "\n",
    "# load the image\n",
    "img = load_img('New folder\\\\train\\\\Lifebuoy Kitchen Fresh Handwash, 200ml\\\\112082--01--1605149843.jpeg')\n",
    "# convert to numpy array\n",
    "data = img_to_array(img)\n",
    "# expand dimension to one sample\n",
    "samples = expand_dims(data, 0)\n",
    "# create image data augmentation generator\n",
    "datagen = ImageDataGenerator(horizontal_flip=False, zoom_range=[0.5,1.0], width_shift_range=[-200,200], brightness_range=[0.2,1.0])\n",
    "# prepare iterator\n",
    "it = datagen.flow(samples, batch_size=1)\n",
    "\n",
    "#image_set = []\n",
    "# generate samples and plot\n",
    "for i in range(1,61):\n",
    "\t# define subplot\n",
    "\t#pyplot.subplot(330 + 1 + i)\n",
    "\t# generate batch of images\n",
    "\tbatch = it.next()\n",
    "\t# convert to unsigned integers for viewing\n",
    "\timage = batch[0].astype('uint8')\n",
    "\timage1 = array_to_img(image)\n",
    "\timage1.save(\"New folder\\\\train\\\\Lifebuoy Kitchen Fresh Handwash, 200ml\\\\{}.jpg\".format(i))\n",
    "\t#image_set.append(image1)\n",
    "\t# plot raw pixel data\n",
    "\t#pyplot.imshow(image)\n",
    "# show the figure\n",
    "#pyplot.show()"
   ]
  },
  {
   "cell_type": "markdown",
   "metadata": {},
   "source": [
    "sunsilk_detox_180ml"
   ]
  },
  {
   "cell_type": "code",
   "execution_count": 34,
   "metadata": {},
   "outputs": [],
   "source": [
    "\n",
    "# load the image\n",
    "img = load_img('New folder\\\\train\\\\sunsilk_detox_180ml\\\\112147--01--1605151048.jpeg')\n",
    "# convert to numpy array\n",
    "data = img_to_array(img)\n",
    "# expand dimension to one sample\n",
    "samples = expand_dims(data, 0)\n",
    "# create image data augmentation generator\n",
    "datagen = ImageDataGenerator(horizontal_flip=False, zoom_range=[0.5,1.0], width_shift_range=[-200,200], brightness_range=[0.2,1.0])\n",
    "# prepare iterator\n",
    "it = datagen.flow(samples, batch_size=1)\n",
    "\n",
    "#image_set = []\n",
    "# generate samples and plot\n",
    "for i in range(1,81):\n",
    "\t# define subplot\n",
    "\t#pyplot.subplot(330 + 1 + i)\n",
    "\t# generate batch of images\n",
    "\tbatch = it.next()\n",
    "\t# convert to unsigned integers for viewing\n",
    "\timage = batch[0].astype('uint8')\n",
    "\timage1 = array_to_img(image)\n",
    "\timage1.save(\"New folder\\\\train\\\\sunsilk_detox_180ml\\\\{}.jpg\".format(i))\n",
    "\t#image_set.append(image1)\n",
    "\t# plot raw pixel data\n",
    "\t#pyplot.imshow(image)\n",
    "# show the figure\n",
    "#pyplot.show()"
   ]
  },
  {
   "cell_type": "code",
   "execution_count": null,
   "metadata": {},
   "outputs": [],
   "source": []
  }
 ],
 "metadata": {
  "kernelspec": {
   "display_name": "Python 3.9.12 ('base')",
   "language": "python",
   "name": "python3"
  },
  "language_info": {
   "codemirror_mode": {
    "name": "ipython",
    "version": 3
   },
   "file_extension": ".py",
   "mimetype": "text/x-python",
   "name": "python",
   "nbconvert_exporter": "python",
   "pygments_lexer": "ipython3",
   "version": "3.9.12"
  },
  "orig_nbformat": 4,
  "vscode": {
   "interpreter": {
    "hash": "a90aeebcf29d64a654773811cc170cb25061cb2498f10ac689db374c7bf325de"
   }
  }
 },
 "nbformat": 4,
 "nbformat_minor": 2
}
