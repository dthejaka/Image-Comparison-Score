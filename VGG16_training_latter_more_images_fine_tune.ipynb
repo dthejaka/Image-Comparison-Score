{
 "cells": [
  {
   "cell_type": "code",
   "execution_count": 1,
   "metadata": {},
   "outputs": [],
   "source": [
    "import keras\n",
    "from tensorflow.keras.preprocessing.image import ImageDataGenerator\n",
    "from keras.models import Sequential, Model\n",
    "from keras.layers import Dense, Conv2D, MaxPool2D , Flatten, Dropout\n",
    "from keras.applications import VGG16\n",
    "from keras.applications.vgg16 import preprocess_input"
   ]
  },
  {
   "cell_type": "code",
   "execution_count": 2,
   "metadata": {},
   "outputs": [],
   "source": [
    "num_classes = 4\n",
    "image_size = 224\n",
    "batch_size_training = 10\n",
    "batch_size_validation = 1"
   ]
  },
  {
   "cell_type": "code",
   "execution_count": 3,
   "metadata": {},
   "outputs": [],
   "source": [
    "data_generator = ImageDataGenerator(preprocessing_function=preprocess_input,)\n",
    "\n",
    "#data_generator = ImageDataGenerator(preprocessing_function=preprocess_input,)"
   ]
  },
  {
   "cell_type": "code",
   "execution_count": 4,
   "metadata": {},
   "outputs": [
    {
     "name": "stdout",
     "output_type": "stream",
     "text": [
      "Found 315 images belonging to 4 classes.\n",
      "Found 9 images belonging to 4 classes.\n"
     ]
    }
   ],
   "source": [
    "train_generator = data_generator.flow_from_directory(\n",
    "    'New folder/train(different images)',\n",
    "    target_size = (image_size, image_size),\n",
    "    batch_size = batch_size_training,\n",
    "    class_mode = 'categorical'\n",
    "    )\n",
    "\n",
    "validation_generator = data_generator.flow_from_directory(\n",
    "    'New folder/validation',\n",
    "    target_size = (image_size, image_size),\n",
    "    batch_size = batch_size_training,\n",
    "    class_mode = 'categorical'\n",
    "    )"
   ]
  },
  {
   "cell_type": "code",
   "execution_count": 5,
   "metadata": {},
   "outputs": [],
   "source": [
    "#adding VGG16 model\n",
    "from xml.etree.ElementInclude import include\n",
    "\n",
    "base_model = VGG16(weights=\"imagenet\", include_top=False, input_shape=[image_size, image_size, 3],)\n",
    "#base_model.trainable = False"
   ]
  },
  {
   "cell_type": "code",
   "execution_count": 6,
   "metadata": {},
   "outputs": [],
   "source": [
    "# Freeze four convolution blocks\n",
    "for layer in base_model.layers:\n",
    "    layer.trainable = False"
   ]
  },
  {
   "cell_type": "code",
   "execution_count": 7,
   "metadata": {},
   "outputs": [
    {
     "name": "stdout",
     "output_type": "stream",
     "text": [
      "0 input_1 False\n",
      "1 block1_conv1 False\n",
      "2 block1_conv2 False\n",
      "3 block1_pool False\n",
      "4 block2_conv1 False\n",
      "5 block2_conv2 False\n",
      "6 block2_pool False\n",
      "7 block3_conv1 False\n",
      "8 block3_conv2 False\n",
      "9 block3_conv3 False\n",
      "10 block3_pool False\n",
      "11 block4_conv1 False\n",
      "12 block4_conv2 False\n",
      "13 block4_conv3 False\n",
      "14 block4_pool False\n",
      "15 block5_conv1 False\n",
      "16 block5_conv2 False\n",
      "17 block5_conv3 False\n",
      "18 block5_pool False\n"
     ]
    }
   ],
   "source": [
    "# Make sure you have frozen the correct layers\n",
    "for i, layer in enumerate(base_model.layers):\n",
    "    print(i, layer.name, layer.trainable)"
   ]
  },
  {
   "cell_type": "code",
   "execution_count": 8,
   "metadata": {},
   "outputs": [
    {
     "name": "stdout",
     "output_type": "stream",
     "text": [
      "Model: \"vgg16\"\n",
      "_________________________________________________________________\n",
      " Layer (type)                Output Shape              Param #   \n",
      "=================================================================\n",
      " input_1 (InputLayer)        [(None, 224, 224, 3)]     0         \n",
      "                                                                 \n",
      " block1_conv1 (Conv2D)       (None, 224, 224, 64)      1792      \n",
      "                                                                 \n",
      " block1_conv2 (Conv2D)       (None, 224, 224, 64)      36928     \n",
      "                                                                 \n",
      " block1_pool (MaxPooling2D)  (None, 112, 112, 64)      0         \n",
      "                                                                 \n",
      " block2_conv1 (Conv2D)       (None, 112, 112, 128)     73856     \n",
      "                                                                 \n",
      " block2_conv2 (Conv2D)       (None, 112, 112, 128)     147584    \n",
      "                                                                 \n",
      " block2_pool (MaxPooling2D)  (None, 56, 56, 128)       0         \n",
      "                                                                 \n",
      " block3_conv1 (Conv2D)       (None, 56, 56, 256)       295168    \n",
      "                                                                 \n",
      " block3_conv2 (Conv2D)       (None, 56, 56, 256)       590080    \n",
      "                                                                 \n",
      " block3_conv3 (Conv2D)       (None, 56, 56, 256)       590080    \n",
      "                                                                 \n",
      " block3_pool (MaxPooling2D)  (None, 28, 28, 256)       0         \n",
      "                                                                 \n",
      " block4_conv1 (Conv2D)       (None, 28, 28, 512)       1180160   \n",
      "                                                                 \n",
      " block4_conv2 (Conv2D)       (None, 28, 28, 512)       2359808   \n",
      "                                                                 \n",
      " block4_conv3 (Conv2D)       (None, 28, 28, 512)       2359808   \n",
      "                                                                 \n",
      " block4_pool (MaxPooling2D)  (None, 14, 14, 512)       0         \n",
      "                                                                 \n",
      " block5_conv1 (Conv2D)       (None, 14, 14, 512)       2359808   \n",
      "                                                                 \n",
      " block5_conv2 (Conv2D)       (None, 14, 14, 512)       2359808   \n",
      "                                                                 \n",
      " block5_conv3 (Conv2D)       (None, 14, 14, 512)       2359808   \n",
      "                                                                 \n",
      " block5_pool (MaxPooling2D)  (None, 7, 7, 512)         0         \n",
      "                                                                 \n",
      "=================================================================\n",
      "Total params: 14,714,688\n",
      "Trainable params: 0\n",
      "Non-trainable params: 14,714,688\n",
      "_________________________________________________________________\n"
     ]
    }
   ],
   "source": [
    "base_model.summary()"
   ]
  },
  {
   "cell_type": "code",
   "execution_count": 9,
   "metadata": {},
   "outputs": [],
   "source": [
    "x = base_model.output\n",
    "x = Flatten()(x) # Flatten dimensions to use in FC layers\n",
    "x = Dense(50, activation='relu')(x)\n",
    "x = Dropout(0.5)(x) # Dropout layer to reduce overfitting\n",
    "x = Dense(10, activation='relu')(x)\n",
    "x = Dense(4, activation='softmax')(x) # Softmax for multiclass\n",
    "\n",
    "model = Model(inputs=base_model.input, outputs=x)"
   ]
  },
  {
   "cell_type": "code",
   "execution_count": 10,
   "metadata": {},
   "outputs": [],
   "source": [
    "from tensorflow.keras.callbacks import EarlyStopping\n",
    "\n",
    "model.compile(\n",
    "    optimizer='adam',\n",
    "    loss='categorical_crossentropy',\n",
    "    metrics=['accuracy'],\n",
    ")\n",
    "\n",
    "steps_per_epoch_train = len(train_generator)\n",
    "steps_per_epoch_validation = len(validation_generator)\n",
    "number_epochs = 50\n",
    "\n",
    "\n",
    "#model.fit(train_ds, train_labels, epochs=50, validation_split=0.2, batch_size=32, callbacks=[es])"
   ]
  },
  {
   "cell_type": "code",
   "execution_count": 11,
   "metadata": {},
   "outputs": [
    {
     "name": "stdout",
     "output_type": "stream",
     "text": [
      "Epoch 1/50\n",
      "28/32 [=========================>....] - ETA: 2s - loss: 7.6654 - accuracy: 0.4727"
     ]
    },
    {
     "name": "stderr",
     "output_type": "stream",
     "text": [
      "c:\\Users\\ASUS\\anaconda3\\lib\\site-packages\\PIL\\Image.py:959: UserWarning: Palette images with Transparency expressed in bytes should be converted to RGBA images\n",
      "  warnings.warn(\n"
     ]
    },
    {
     "name": "stdout",
     "output_type": "stream",
     "text": [
      "32/32 [==============================] - 26s 791ms/step - loss: 7.1172 - accuracy: 0.4825 - val_loss: 1.1811 - val_accuracy: 0.5556 - lr: 0.0010\n",
      "Epoch 2/50\n",
      "32/32 [==============================] - 32s 992ms/step - loss: 2.5983 - accuracy: 0.5556 - val_loss: 1.0842 - val_accuracy: 0.5556 - lr: 0.0010\n",
      "Epoch 3/50\n",
      "32/32 [==============================] - 29s 922ms/step - loss: 1.1776 - accuracy: 0.6857 - val_loss: 0.8716 - val_accuracy: 0.4444 - lr: 0.0010\n",
      "Epoch 4/50\n",
      "32/32 [==============================] - 30s 927ms/step - loss: 0.7852 - accuracy: 0.7524 - val_loss: 1.2424 - val_accuracy: 0.4444 - lr: 0.0010\n",
      "Epoch 5/50\n",
      "32/32 [==============================] - 28s 888ms/step - loss: 0.6090 - accuracy: 0.7270 - val_loss: 1.4002 - val_accuracy: 0.5556 - lr: 0.0010\n",
      "Epoch 6/50\n",
      "32/32 [==============================] - 30s 933ms/step - loss: 0.8633 - accuracy: 0.7302 - val_loss: 0.5456 - val_accuracy: 0.6667 - lr: 0.0010\n",
      "Epoch 7/50\n",
      "32/32 [==============================] - 27s 855ms/step - loss: 0.5800 - accuracy: 0.7048 - val_loss: 0.4436 - val_accuracy: 0.6667 - lr: 0.0010\n",
      "Epoch 8/50\n",
      "32/32 [==============================] - 27s 854ms/step - loss: 0.5121 - accuracy: 0.8000 - val_loss: 0.3790 - val_accuracy: 0.7778 - lr: 0.0010\n",
      "Epoch 9/50\n",
      "32/32 [==============================] - 27s 852ms/step - loss: 0.6098 - accuracy: 0.7778 - val_loss: 0.6310 - val_accuracy: 0.6667 - lr: 0.0010\n",
      "Epoch 10/50\n",
      "32/32 [==============================] - 28s 873ms/step - loss: 0.5512 - accuracy: 0.7651 - val_loss: 0.1853 - val_accuracy: 0.8889 - lr: 0.0010\n",
      "Epoch 11/50\n",
      "32/32 [==============================] - 29s 893ms/step - loss: 0.5325 - accuracy: 0.7556 - val_loss: 0.1877 - val_accuracy: 0.8889 - lr: 0.0010\n",
      "Epoch 12/50\n",
      "32/32 [==============================] - 28s 884ms/step - loss: 0.4845 - accuracy: 0.7651 - val_loss: 0.0201 - val_accuracy: 1.0000 - lr: 0.0010\n",
      "Epoch 13/50\n",
      "32/32 [==============================] - 28s 888ms/step - loss: 0.4262 - accuracy: 0.7778 - val_loss: 0.0167 - val_accuracy: 1.0000 - lr: 0.0010\n",
      "Epoch 14/50\n",
      "32/32 [==============================] - 29s 902ms/step - loss: 0.5358 - accuracy: 0.7460 - val_loss: 0.1565 - val_accuracy: 1.0000 - lr: 0.0010\n",
      "Epoch 15/50\n",
      "32/32 [==============================] - 28s 879ms/step - loss: 0.3545 - accuracy: 0.8095 - val_loss: 0.2433 - val_accuracy: 1.0000 - lr: 0.0010\n",
      "Epoch 16/50\n",
      "32/32 [==============================] - 28s 866ms/step - loss: 0.3788 - accuracy: 0.8063 - val_loss: 0.0156 - val_accuracy: 1.0000 - lr: 0.0010\n",
      "Epoch 17/50\n",
      "32/32 [==============================] - 29s 904ms/step - loss: 0.3068 - accuracy: 0.8317 - val_loss: 0.0142 - val_accuracy: 1.0000 - lr: 0.0010\n",
      "Epoch 18/50\n",
      "32/32 [==============================] - 29s 899ms/step - loss: 0.3922 - accuracy: 0.7905 - val_loss: 0.0169 - val_accuracy: 1.0000 - lr: 0.0010\n",
      "Epoch 19/50\n",
      "32/32 [==============================] - 28s 886ms/step - loss: 0.3632 - accuracy: 0.8095 - val_loss: 0.0165 - val_accuracy: 1.0000 - lr: 0.0010\n",
      "Epoch 20/50\n",
      "32/32 [==============================] - ETA: 0s - loss: 0.4067 - accuracy: 0.7968\n",
      "Epoch 20: ReduceLROnPlateau reducing learning rate to 0.0006000000284984708.\n",
      "32/32 [==============================] - 29s 891ms/step - loss: 0.4067 - accuracy: 0.7968 - val_loss: 0.0247 - val_accuracy: 1.0000 - lr: 0.0010\n",
      "Epoch 21/50\n",
      "32/32 [==============================] - 30s 921ms/step - loss: 0.3532 - accuracy: 0.8222 - val_loss: 0.0274 - val_accuracy: 1.0000 - lr: 6.0000e-04\n",
      "Epoch 22/50\n",
      "32/32 [==============================] - 31s 964ms/step - loss: 0.3859 - accuracy: 0.8000 - val_loss: 0.0231 - val_accuracy: 1.0000 - lr: 6.0000e-04\n",
      "Epoch 23/50\n",
      "32/32 [==============================] - 31s 954ms/step - loss: 0.3496 - accuracy: 0.8032 - val_loss: 0.0246 - val_accuracy: 1.0000 - lr: 6.0000e-04\n",
      "Epoch 24/50\n",
      "32/32 [==============================] - 30s 941ms/step - loss: 0.3088 - accuracy: 0.8381 - val_loss: 0.0216 - val_accuracy: 1.0000 - lr: 6.0000e-04\n",
      "Epoch 25/50\n",
      "32/32 [==============================] - 29s 906ms/step - loss: 0.4055 - accuracy: 0.7778 - val_loss: 0.0193 - val_accuracy: 1.0000 - lr: 6.0000e-04\n",
      "Epoch 26/50\n",
      "32/32 [==============================] - 30s 940ms/step - loss: 0.3213 - accuracy: 0.8254 - val_loss: 0.0177 - val_accuracy: 1.0000 - lr: 6.0000e-04\n",
      "Epoch 27/50\n",
      "32/32 [==============================] - 29s 897ms/step - loss: 0.3687 - accuracy: 0.8032 - val_loss: 0.0163 - val_accuracy: 1.0000 - lr: 6.0000e-04\n",
      "Epoch 28/50\n",
      "32/32 [==============================] - ETA: 0s - loss: 0.3897 - accuracy: 0.8190\n",
      "Epoch 28: ReduceLROnPlateau reducing learning rate to 0.0003600000170990825.\n",
      "32/32 [==============================] - 29s 907ms/step - loss: 0.3897 - accuracy: 0.8190 - val_loss: 0.0267 - val_accuracy: 1.0000 - lr: 6.0000e-04\n",
      "Epoch 29/50\n",
      "32/32 [==============================] - 30s 951ms/step - loss: 0.3173 - accuracy: 0.8603 - val_loss: 0.1064 - val_accuracy: 0.8889 - lr: 3.6000e-04\n",
      "Epoch 30/50\n",
      "32/32 [==============================] - 30s 933ms/step - loss: 0.5701 - accuracy: 0.7937 - val_loss: 0.0017 - val_accuracy: 1.0000 - lr: 3.6000e-04\n",
      "Epoch 31/50\n",
      "32/32 [==============================] - 29s 912ms/step - loss: 0.3475 - accuracy: 0.8222 - val_loss: 9.8448e-04 - val_accuracy: 1.0000 - lr: 3.6000e-04\n",
      "Epoch 32/50\n",
      "32/32 [==============================] - 30s 939ms/step - loss: 0.3596 - accuracy: 0.8159 - val_loss: 9.6839e-04 - val_accuracy: 1.0000 - lr: 3.6000e-04\n",
      "Epoch 33/50\n",
      "32/32 [==============================] - 30s 922ms/step - loss: 0.3443 - accuracy: 0.8349 - val_loss: 9.4953e-04 - val_accuracy: 1.0000 - lr: 3.6000e-04\n",
      "Epoch 34/50\n",
      "32/32 [==============================] - 31s 951ms/step - loss: 0.3678 - accuracy: 0.7905 - val_loss: 9.4200e-04 - val_accuracy: 1.0000 - lr: 3.6000e-04\n",
      "Epoch 35/50\n",
      "32/32 [==============================] - 28s 881ms/step - loss: 0.3116 - accuracy: 0.8476 - val_loss: 9.4231e-04 - val_accuracy: 1.0000 - lr: 3.6000e-04\n",
      "Epoch 36/50\n",
      "32/32 [==============================] - ETA: 0s - loss: 0.2936 - accuracy: 0.8413\n",
      "Epoch 36: ReduceLROnPlateau reducing learning rate to 0.00021600000327453016.\n",
      "32/32 [==============================] - 29s 920ms/step - loss: 0.2936 - accuracy: 0.8413 - val_loss: 9.3547e-04 - val_accuracy: 1.0000 - lr: 3.6000e-04\n",
      "Epoch 37/50\n",
      "32/32 [==============================] - 30s 926ms/step - loss: 0.3635 - accuracy: 0.8032 - val_loss: 9.3440e-04 - val_accuracy: 1.0000 - lr: 2.1600e-04\n",
      "Epoch 38/50\n",
      "32/32 [==============================] - 30s 925ms/step - loss: 0.3375 - accuracy: 0.8159 - val_loss: 9.4098e-04 - val_accuracy: 1.0000 - lr: 2.1600e-04\n",
      "Epoch 39/50\n",
      "32/32 [==============================] - 30s 930ms/step - loss: 0.3228 - accuracy: 0.8381 - val_loss: 9.2763e-04 - val_accuracy: 1.0000 - lr: 2.1600e-04\n",
      "Epoch 40/50\n",
      "32/32 [==============================] - 30s 920ms/step - loss: 0.4129 - accuracy: 0.8127 - val_loss: 9.3755e-04 - val_accuracy: 1.0000 - lr: 2.1600e-04\n",
      "Epoch 41/50\n",
      "32/32 [==============================] - 30s 940ms/step - loss: 0.3345 - accuracy: 0.8286 - val_loss: 9.5618e-04 - val_accuracy: 1.0000 - lr: 2.1600e-04\n",
      "Epoch 42/50\n",
      "32/32 [==============================] - 31s 971ms/step - loss: 0.3850 - accuracy: 0.7937 - val_loss: 9.5948e-04 - val_accuracy: 1.0000 - lr: 2.1600e-04\n",
      "Epoch 43/50\n",
      "32/32 [==============================] - 31s 964ms/step - loss: 0.3394 - accuracy: 0.8317 - val_loss: 9.6389e-04 - val_accuracy: 1.0000 - lr: 2.1600e-04\n",
      "Epoch 44/50\n",
      "32/32 [==============================] - ETA: 0s - loss: 0.3326 - accuracy: 0.8159\n",
      "Epoch 44: ReduceLROnPlateau reducing learning rate to 0.00012960000021848827.\n",
      "32/32 [==============================] - 30s 937ms/step - loss: 0.3326 - accuracy: 0.8159 - val_loss: 9.6413e-04 - val_accuracy: 1.0000 - lr: 2.1600e-04\n",
      "Epoch 45/50\n",
      "32/32 [==============================] - 30s 937ms/step - loss: 0.3408 - accuracy: 0.8063 - val_loss: 9.5532e-04 - val_accuracy: 1.0000 - lr: 1.2960e-04\n",
      "Epoch 46/50\n",
      "32/32 [==============================] - 30s 934ms/step - loss: 0.3099 - accuracy: 0.8381 - val_loss: 9.5720e-04 - val_accuracy: 1.0000 - lr: 1.2960e-04\n",
      "Epoch 47/50\n",
      "32/32 [==============================] - 30s 928ms/step - loss: 0.3597 - accuracy: 0.8063 - val_loss: 9.6708e-04 - val_accuracy: 1.0000 - lr: 1.2960e-04\n",
      "Epoch 48/50\n",
      "32/32 [==============================] - 31s 965ms/step - loss: 0.3325 - accuracy: 0.8222 - val_loss: 9.6173e-04 - val_accuracy: 1.0000 - lr: 1.2960e-04\n",
      "Epoch 49/50\n",
      "32/32 [==============================] - 30s 948ms/step - loss: 0.3130 - accuracy: 0.8444 - val_loss: 9.6195e-04 - val_accuracy: 1.0000 - lr: 1.2960e-04\n",
      "Epoch 50/50\n",
      "32/32 [==============================] - 30s 937ms/step - loss: 0.3747 - accuracy: 0.7968 - val_loss: 9.7223e-04 - val_accuracy: 1.0000 - lr: 1.2960e-04\n"
     ]
    }
   ],
   "source": [
    "from keras.callbacks import ReduceLROnPlateau\n",
    "lr_reduce = ReduceLROnPlateau(monitor='val_accuracy', factor=0.6, patience=8, verbose=1, mode='max', min_lr=5e-5)\n",
    "\n",
    "#early stopping is not used\n",
    "fit_history = model.fit(train_generator, epochs=number_epochs,verbose=1, validation_data=validation_generator, callbacks=[lr_reduce])"
   ]
  },
  {
   "cell_type": "code",
   "execution_count": 12,
   "metadata": {},
   "outputs": [],
   "source": [
    "model.save('model/VGG16_latter_training/final_with_atleast_2images_and3dense4096_fine_tune_drop_layer_50epoch.h5')"
   ]
  },
  {
   "cell_type": "markdown",
   "metadata": {},
   "source": [
    "## RUN THIS MODEL"
   ]
  },
  {
   "cell_type": "markdown",
   "metadata": {},
   "source": [
    "#### JUST A CHECK (AND ITS PERFECT)"
   ]
  },
  {
   "cell_type": "code",
   "execution_count": 13,
   "metadata": {},
   "outputs": [],
   "source": [
    "from keras.models import load_model\n",
    "vgg16_saved = load_model('model/VGG16_latter_training/final_with_atleast_2images_and3dense4096_fine_tune_drop_layer_50epoch.h5')"
   ]
  },
  {
   "cell_type": "code",
   "execution_count": 14,
   "metadata": {},
   "outputs": [],
   "source": [
    "from keras.models import Model\n",
    "basemodel1 = Model(inputs=vgg16_saved.input, outputs=vgg16_saved.get_layer('dense').output)"
   ]
  },
  {
   "cell_type": "code",
   "execution_count": 15,
   "metadata": {},
   "outputs": [],
   "source": [
    "import numpy as np\n",
    "from numpy.linalg import norm"
   ]
  },
  {
   "cell_type": "code",
   "execution_count": 36,
   "metadata": {},
   "outputs": [
    {
     "name": "stdout",
     "output_type": "stream",
     "text": [
      "1/1 [==============================] - 0s 115ms/step\n",
      "1/1 [==============================] - 0s 106ms/step\n",
      "Cosine Similarity: 0.70727915\n"
     ]
    }
   ],
   "source": [
    "#predicting\n",
    "from tensorflow.keras.preprocessing.image import load_img\n",
    "# load an image from file\n",
    "image1 = load_img('New folder/test/test3.png', target_size=(224, 224))\n",
    "image2 = load_img('New folder/test/test4.jpg', target_size=(224, 224))\n",
    "\n",
    "\n",
    "from tensorflow.keras.preprocessing.image import img_to_array\n",
    "image1 = img_to_array(image1)\n",
    "image2 = img_to_array(image2)\n",
    "\n",
    "# reshape data for the model\n",
    "image1 = image1.reshape((1, image1.shape[0], image1.shape[1], image1.shape[2]))\n",
    "image2 = image2.reshape((1, image2.shape[0], image2.shape[1], image2.shape[2]))\n",
    "\n",
    "\n",
    "from keras.applications.vgg16 import preprocess_input\n",
    "# prepare the image for the VGG model\n",
    "image1 = preprocess_input(image1)\n",
    "image2 = preprocess_input(image2)\n",
    "\n",
    "# predict the probability across all output classes\n",
    "yhat1_base = basemodel1.predict(image1)\n",
    "yhat2_base = basemodel1.predict(image2)\n",
    "\n",
    "#cosine similarity\n",
    "A = yhat1_base[0]\n",
    "B = yhat2_base[0]\n",
    "\n",
    "cosine = np.dot(A,B)/(norm(A)*norm(B))\n",
    "print(\"Cosine Similarity:\", cosine)"
   ]
  },
  {
   "cell_type": "code",
   "execution_count": 17,
   "metadata": {},
   "outputs": [
    {
     "name": "stdout",
     "output_type": "stream",
     "text": [
      "1/1 [==============================] - 0s 107ms/step\n",
      "1/1 [==============================] - 0s 110ms/step\n",
      "Cosine Similarity: 0.68079954\n"
     ]
    }
   ],
   "source": [
    "#predicting\n",
    "from tensorflow.keras.preprocessing.image import load_img\n",
    "# load an image from file\n",
    "image1 = load_img('New folder/test/test3_BW.png', target_size=(224, 224))\n",
    "image2 = load_img('New folder/test/test3.png', target_size=(224, 224))\n",
    "\n",
    "\n",
    "from tensorflow.keras.preprocessing.image import img_to_array\n",
    "image1 = img_to_array(image1)\n",
    "image2 = img_to_array(image2)\n",
    "\n",
    "# reshape data for the model\n",
    "image1 = image1.reshape((1, image1.shape[0], image1.shape[1], image1.shape[2]))\n",
    "image2 = image2.reshape((1, image2.shape[0], image2.shape[1], image2.shape[2]))\n",
    "\n",
    "\n",
    "from keras.applications.vgg16 import preprocess_input\n",
    "# prepare the image for the VGG model\n",
    "image1 = preprocess_input(image1)\n",
    "image2 = preprocess_input(image2)\n",
    "\n",
    "# predict the probability across all output classes\n",
    "yhat1_base = basemodel1.predict(image1)\n",
    "yhat2_base = basemodel1.predict(image2)\n",
    "\n",
    "#cosine similarity\n",
    "A = yhat1_base[0]\n",
    "B = yhat2_base[0]\n",
    "\n",
    "cosine = np.dot(A,B)/(norm(A)*norm(B))\n",
    "print(\"Cosine Similarity:\", cosine)\n",
    "\n",
    "#0.78 on model 3\n"
   ]
  },
  {
   "cell_type": "code",
   "execution_count": 18,
   "metadata": {},
   "outputs": [
    {
     "name": "stdout",
     "output_type": "stream",
     "text": [
      "1/1 [==============================] - 0s 103ms/step\n",
      "1/1 [==============================] - 0s 101ms/step\n",
      "Cosine Similarity: 0.9852447\n"
     ]
    }
   ],
   "source": [
    "#predicting\n",
    "from tensorflow.keras.preprocessing.image import load_img\n",
    "# load an image from file\n",
    "image1 = load_img('New folder/test/test3_cropped.jpg', target_size=(224, 224))\n",
    "image2 = load_img('New folder/test/test4_cropped.jpg', target_size=(224, 224))\n",
    "\n",
    "\n",
    "from tensorflow.keras.preprocessing.image import img_to_array\n",
    "image1 = img_to_array(image1)\n",
    "image2 = img_to_array(image2)\n",
    "\n",
    "# reshape data for the model\n",
    "image1 = image1.reshape((1, image1.shape[0], image1.shape[1], image1.shape[2]))\n",
    "image2 = image2.reshape((1, image2.shape[0], image2.shape[1], image2.shape[2]))\n",
    "\n",
    "\n",
    "from keras.applications.vgg16 import preprocess_input\n",
    "# prepare the image for the VGG model\n",
    "image1 = preprocess_input(image1)\n",
    "image2 = preprocess_input(image2)\n",
    "\n",
    "# predict the probability across all output classes\n",
    "yhat1_base = basemodel1.predict(image1)\n",
    "yhat2_base = basemodel1.predict(image2)\n",
    "\n",
    "#cosine similarity\n",
    "A = yhat1_base[0]\n",
    "B = yhat2_base[0]\n",
    "\n",
    "cosine = np.dot(A,B)/(norm(A)*norm(B))\n",
    "print(\"Cosine Similarity:\", cosine)"
   ]
  },
  {
   "cell_type": "code",
   "execution_count": 19,
   "metadata": {},
   "outputs": [
    {
     "name": "stdout",
     "output_type": "stream",
     "text": [
      "1/1 [==============================] - 0s 106ms/step\n",
      "1/1 [==============================] - 0s 108ms/step\n",
      "Cosine Similarity: 0.0\n"
     ]
    }
   ],
   "source": [
    "#predicting\n",
    "from tensorflow.keras.preprocessing.image import load_img\n",
    "# load an image from file\n",
    "image1 = load_img('New folder/test/test.png', target_size=(224, 224))\n",
    "image2 = load_img('New folder/test/test3.png', target_size=(224, 224))\n",
    "\n",
    "\n",
    "from tensorflow.keras.preprocessing.image import img_to_array\n",
    "image1 = img_to_array(image1)\n",
    "image2 = img_to_array(image2)\n",
    "\n",
    "# reshape data for the model\n",
    "image1 = image1.reshape((1, image1.shape[0], image1.shape[1], image1.shape[2]))\n",
    "image2 = image2.reshape((1, image2.shape[0], image2.shape[1], image2.shape[2]))\n",
    "\n",
    "\n",
    "from keras.applications.vgg16 import preprocess_input\n",
    "# prepare the image for the VGG model\n",
    "image1 = preprocess_input(image1)\n",
    "image2 = preprocess_input(image2)\n",
    "\n",
    "# predict the probability across all output classes\n",
    "yhat1_base = basemodel1.predict(image1)\n",
    "yhat2_base = basemodel1.predict(image2)\n",
    "\n",
    "#cosine similarity\n",
    "A = yhat1_base[0]\n",
    "B = yhat2_base[0]\n",
    "\n",
    "cosine = np.dot(A,B)/(norm(A)*norm(B))\n",
    "print(\"Cosine Similarity:\", cosine)"
   ]
  },
  {
   "cell_type": "code",
   "execution_count": 20,
   "metadata": {},
   "outputs": [
    {
     "name": "stdout",
     "output_type": "stream",
     "text": [
      "1/1 [==============================] - 0s 109ms/step\n",
      "1/1 [==============================] - 0s 106ms/step\n",
      "Cosine Similarity: 0.70727915\n"
     ]
    }
   ],
   "source": [
    "#predicting\n",
    "from tensorflow.keras.preprocessing.image import load_img\n",
    "# load an image from file\n",
    "image1 = load_img('New folder/test/test4.jpg', target_size=(224, 224))\n",
    "image2 = load_img('New folder/test/test3.png', target_size=(224, 224))\n",
    "\n",
    "\n",
    "from tensorflow.keras.preprocessing.image import img_to_array\n",
    "image1 = img_to_array(image1)\n",
    "image2 = img_to_array(image2)\n",
    "\n",
    "# reshape data for the model\n",
    "image1 = image1.reshape((1, image1.shape[0], image1.shape[1], image1.shape[2]))\n",
    "image2 = image2.reshape((1, image2.shape[0], image2.shape[1], image2.shape[2]))\n",
    "\n",
    "\n",
    "from keras.applications.vgg16 import preprocess_input\n",
    "# prepare the image for the VGG model\n",
    "image1 = preprocess_input(image1)\n",
    "image2 = preprocess_input(image2)\n",
    "\n",
    "# predict the probability across all output classes\n",
    "yhat1_base = basemodel1.predict(image1)\n",
    "yhat2_base = basemodel1.predict(image2)\n",
    "\n",
    "#cosine similarity\n",
    "A = yhat1_base[0]\n",
    "B = yhat2_base[0]\n",
    "\n",
    "cosine = np.dot(A,B)/(norm(A)*norm(B))\n",
    "print(\"Cosine Similarity:\", cosine)"
   ]
  },
  {
   "cell_type": "code",
   "execution_count": 48,
   "metadata": {},
   "outputs": [
    {
     "name": "stdout",
     "output_type": "stream",
     "text": [
      "1/1 [==============================] - 0s 120ms/step\n",
      "1/1 [==============================] - 0s 116ms/step\n",
      "Cosine Similarity: 0.0\n"
     ]
    }
   ],
   "source": [
    "#predicting\n",
    "from tensorflow.keras.preprocessing.image import load_img\n",
    "# load an image from file\n",
    "image1 = load_img('New folder/test/test3.png', target_size=(224, 224))\n",
    "image2 = load_img('New folder/test/test8.jpeg', target_size=(224, 224))\n",
    "\n",
    "\n",
    "from tensorflow.keras.preprocessing.image import img_to_array\n",
    "image1 = img_to_array(image1)\n",
    "image2 = img_to_array(image2)\n",
    "\n",
    "# reshape data for the model\n",
    "image1 = image1.reshape((1, image1.shape[0], image1.shape[1], image1.shape[2]))\n",
    "image2 = image2.reshape((1, image2.shape[0], image2.shape[1], image2.shape[2]))\n",
    "\n",
    "\n",
    "from keras.applications.vgg16 import preprocess_input\n",
    "# prepare the image for the VGG model\n",
    "image1 = preprocess_input(image1)\n",
    "image2 = preprocess_input(image2)\n",
    "\n",
    "# predict the probability across all output classes\n",
    "yhat1_base = basemodel1.predict(image1)\n",
    "yhat2_base = basemodel1.predict(image2)\n",
    "\n",
    "#cosine similarity\n",
    "A = yhat1_base[0]\n",
    "B = yhat2_base[0]\n",
    "\n",
    "cosine = np.dot(A,B)/(norm(A)*norm(B))\n",
    "print(\"Cosine Similarity:\", cosine)"
   ]
  },
  {
   "cell_type": "code",
   "execution_count": 21,
   "metadata": {},
   "outputs": [
    {
     "name": "stdout",
     "output_type": "stream",
     "text": [
      "1/1 [==============================] - 0s 108ms/step\n",
      "1/1 [==============================] - 0s 102ms/step\n",
      "Cosine Similarity: 0.0\n"
     ]
    }
   ],
   "source": [
    "#predicting\n",
    "from tensorflow.keras.preprocessing.image import load_img\n",
    "# load an image from file\n",
    "image1 = load_img('New folder/test/test3.png', target_size=(224, 224))\n",
    "image2 = load_img('New folder/test/test2.jpg', target_size=(224, 224))\n",
    "\n",
    "\n",
    "from tensorflow.keras.preprocessing.image import img_to_array\n",
    "image1 = img_to_array(image1)\n",
    "image2 = img_to_array(image2)\n",
    "\n",
    "# reshape data for the model\n",
    "image1 = image1.reshape((1, image1.shape[0], image1.shape[1], image1.shape[2]))\n",
    "image2 = image2.reshape((1, image2.shape[0], image2.shape[1], image2.shape[2]))\n",
    "\n",
    "\n",
    "from keras.applications.vgg16 import preprocess_input\n",
    "# prepare the image for the VGG model\n",
    "image1 = preprocess_input(image1)\n",
    "image2 = preprocess_input(image2)\n",
    "\n",
    "# predict the probability across all output classes\n",
    "yhat1_base = basemodel1.predict(image1)\n",
    "yhat2_base = basemodel1.predict(image2)\n",
    "\n",
    "#cosine similarity\n",
    "A = yhat1_base[0]\n",
    "B = yhat2_base[0]\n",
    "\n",
    "cosine = np.dot(A,B)/(norm(A)*norm(B))\n",
    "print(\"Cosine Similarity:\", cosine)"
   ]
  },
  {
   "cell_type": "code",
   "execution_count": 22,
   "metadata": {},
   "outputs": [
    {
     "name": "stdout",
     "output_type": "stream",
     "text": [
      "1/1 [==============================] - 0s 109ms/step\n",
      "1/1 [==============================] - 0s 109ms/step\n",
      "Cosine Similarity: 0.047499403\n"
     ]
    }
   ],
   "source": [
    "#predicting\n",
    "from tensorflow.keras.preprocessing.image import load_img\n",
    "# load an image from file\n",
    "image1 = load_img('New folder/test/test3.png', target_size=(224, 224))\n",
    "image2 = load_img('New folder/test/test3_cropped.jpg', target_size=(224, 224))\n",
    "\n",
    "\n",
    "from tensorflow.keras.preprocessing.image import img_to_array\n",
    "image1 = img_to_array(image1)\n",
    "image2 = img_to_array(image2)\n",
    "\n",
    "# reshape data for the model\n",
    "image1 = image1.reshape((1, image1.shape[0], image1.shape[1], image1.shape[2]))\n",
    "image2 = image2.reshape((1, image2.shape[0], image2.shape[1], image2.shape[2]))\n",
    "\n",
    "\n",
    "from keras.applications.vgg16 import preprocess_input\n",
    "# prepare the image for the VGG model\n",
    "image1 = preprocess_input(image1)\n",
    "image2 = preprocess_input(image2)\n",
    "\n",
    "# predict the probability across all output classes\n",
    "yhat1_base = basemodel1.predict(image1)\n",
    "yhat2_base = basemodel1.predict(image2)\n",
    "\n",
    "#cosine similarity\n",
    "A = yhat1_base[0]\n",
    "B = yhat2_base[0]\n",
    "\n",
    "cosine = np.dot(A,B)/(norm(A)*norm(B))\n",
    "print(\"Cosine Similarity:\", cosine)"
   ]
  },
  {
   "cell_type": "code",
   "execution_count": 46,
   "metadata": {},
   "outputs": [
    {
     "name": "stdout",
     "output_type": "stream",
     "text": [
      "1/1 [==============================] - 0s 105ms/step\n",
      "1/1 [==============================] - 0s 109ms/step\n",
      "Cosine Similarity: 0.5336364\n"
     ]
    }
   ],
   "source": [
    "#predicting\n",
    "from tensorflow.keras.preprocessing.image import load_img\n",
    "# load an image from file\n",
    "image1 = load_img('New folder/test/test5.png', target_size=(224, 224))\n",
    "image2 = load_img('New folder/test/test7.jpg', target_size=(224, 224))\n",
    "\n",
    "\n",
    "from tensorflow.keras.preprocessing.image import img_to_array\n",
    "image1 = img_to_array(image1)\n",
    "image2 = img_to_array(image2)\n",
    "\n",
    "# reshape data for the model\n",
    "image1 = image1.reshape((1, image1.shape[0], image1.shape[1], image1.shape[2]))\n",
    "image2 = image2.reshape((1, image2.shape[0], image2.shape[1], image2.shape[2]))\n",
    "\n",
    "\n",
    "from keras.applications.vgg16 import preprocess_input\n",
    "# prepare the image for the VGG model\n",
    "image1 = preprocess_input(image1)\n",
    "image2 = preprocess_input(image2)\n",
    "\n",
    "# predict the probability across all output classes\n",
    "yhat1_base = basemodel1.predict(image1)\n",
    "yhat2_base = basemodel1.predict(image2)\n",
    "\n",
    "#cosine similarity\n",
    "A = yhat1_base[0]\n",
    "B = yhat2_base[0]\n",
    "\n",
    "cosine = np.dot(A,B)/(norm(A)*norm(B))\n",
    "print(\"Cosine Similarity:\", cosine)"
   ]
  },
  {
   "cell_type": "code",
   "execution_count": 41,
   "metadata": {},
   "outputs": [
    {
     "name": "stdout",
     "output_type": "stream",
     "text": [
      "1/1 [==============================] - 0s 111ms/step\n",
      "1/1 [==============================] - 0s 106ms/step\n",
      "Cosine Similarity: 0.99997765\n"
     ]
    }
   ],
   "source": [
    "#predicting\n",
    "from tensorflow.keras.preprocessing.image import load_img\n",
    "# load an image from file\n",
    "image1 = load_img('New folder/test/test7.jpg', target_size=(224, 224))\n",
    "image2 = load_img('New folder/test/test8.jpeg', target_size=(224, 224))\n",
    "\n",
    "\n",
    "from tensorflow.keras.preprocessing.image import img_to_array\n",
    "image1 = img_to_array(image1)\n",
    "image2 = img_to_array(image2)\n",
    "\n",
    "# reshape data for the model\n",
    "image1 = image1.reshape((1, image1.shape[0], image1.shape[1], image1.shape[2]))\n",
    "image2 = image2.reshape((1, image2.shape[0], image2.shape[1], image2.shape[2]))\n",
    "\n",
    "\n",
    "from keras.applications.vgg16 import preprocess_input\n",
    "# prepare the image for the VGG model\n",
    "image1 = preprocess_input(image1)\n",
    "image2 = preprocess_input(image2)\n",
    "\n",
    "# predict the probability across all output classes\n",
    "yhat1_base = basemodel1.predict(image1)\n",
    "yhat2_base = basemodel1.predict(image2)\n",
    "\n",
    "#cosine similarity\n",
    "A = yhat1_base[0]\n",
    "B = yhat2_base[0]\n",
    "\n",
    "cosine = np.dot(A,B)/(norm(A)*norm(B))\n",
    "print(\"Cosine Similarity:\", cosine)"
   ]
  },
  {
   "cell_type": "code",
   "execution_count": 43,
   "metadata": {},
   "outputs": [
    {
     "name": "stdout",
     "output_type": "stream",
     "text": [
      "1/1 [==============================] - 0s 112ms/step\n",
      "1/1 [==============================] - 0s 107ms/step\n",
      "Cosine Similarity: 1.0\n"
     ]
    }
   ],
   "source": [
    "#predicting\n",
    "from tensorflow.keras.preprocessing.image import load_img\n",
    "# load an image from file\n",
    "image1 = load_img('New folder/test/test3.png', target_size=(224, 224))\n",
    "image2 = load_img('New folder/test/test3.png', target_size=(224, 224))\n",
    "\n",
    "\n",
    "from tensorflow.keras.preprocessing.image import img_to_array\n",
    "image1 = img_to_array(image1)\n",
    "image2 = img_to_array(image2)\n",
    "\n",
    "# reshape data for the model\n",
    "image1 = image1.reshape((1, image1.shape[0], image1.shape[1], image1.shape[2]))\n",
    "image2 = image2.reshape((1, image2.shape[0], image2.shape[1], image2.shape[2]))\n",
    "\n",
    "\n",
    "from keras.applications.vgg16 import preprocess_input\n",
    "# prepare the image for the VGG model\n",
    "image1 = preprocess_input(image1)\n",
    "image2 = preprocess_input(image2)\n",
    "\n",
    "# predict the probability across all output classes\n",
    "yhat1_base = basemodel1.predict(image1)\n",
    "yhat2_base = basemodel1.predict(image2)\n",
    "\n",
    "#cosine similarity\n",
    "A = yhat1_base[0]\n",
    "B = yhat2_base[0]\n",
    "\n",
    "cosine = np.dot(A,B)/(norm(A)*norm(B))\n",
    "print(\"Cosine Similarity:\", cosine)"
   ]
  },
  {
   "cell_type": "code",
   "execution_count": 24,
   "metadata": {},
   "outputs": [
    {
     "name": "stdout",
     "output_type": "stream",
     "text": [
      "1/1 [==============================] - 0s 105ms/step\n",
      "1/1 [==============================] - 0s 106ms/step\n",
      "Cosine Similarity: 0.0\n"
     ]
    }
   ],
   "source": [
    "#predicting\n",
    "from tensorflow.keras.preprocessing.image import load_img\n",
    "# load an image from file\n",
    "image1 = load_img('New folder/test/test.png', target_size=(224, 224))\n",
    "image2 = load_img('New folder/test/test4.jpg', target_size=(224, 224))\n",
    "\n",
    "\n",
    "from tensorflow.keras.preprocessing.image import img_to_array\n",
    "image1 = img_to_array(image1)\n",
    "image2 = img_to_array(image2)\n",
    "\n",
    "# reshape data for the model\n",
    "image1 = image1.reshape((1, image1.shape[0], image1.shape[1], image1.shape[2]))\n",
    "image2 = image2.reshape((1, image2.shape[0], image2.shape[1], image2.shape[2]))\n",
    "\n",
    "\n",
    "from keras.applications.vgg16 import preprocess_input\n",
    "# prepare the image for the VGG model\n",
    "image1 = preprocess_input(image1)\n",
    "image2 = preprocess_input(image2)\n",
    "\n",
    "# predict the probability across all output classes\n",
    "yhat1_base = basemodel1.predict(image1)\n",
    "yhat2_base = basemodel1.predict(image2)\n",
    "\n",
    "#cosine similarity\n",
    "A = yhat1_base[0]\n",
    "B = yhat2_base[0]\n",
    "\n",
    "cosine = np.dot(A,B)/(norm(A)*norm(B))\n",
    "print(\"Cosine Similarity:\", cosine)"
   ]
  },
  {
   "cell_type": "code",
   "execution_count": 25,
   "metadata": {},
   "outputs": [
    {
     "name": "stdout",
     "output_type": "stream",
     "text": [
      "1/1 [==============================] - 0s 128ms/step\n",
      "1/1 [==============================] - 0s 106ms/step\n",
      "Cosine Similarity: 0.0\n"
     ]
    }
   ],
   "source": [
    "#predicting\n",
    "from tensorflow.keras.preprocessing.image import load_img\n",
    "# load an image from file\n",
    "image1 = load_img('New folder/test/test.png', target_size=(224, 224))\n",
    "image2 = load_img('New folder/test/test5.png', target_size=(224, 224))\n",
    "\n",
    "\n",
    "from tensorflow.keras.preprocessing.image import img_to_array\n",
    "image1 = img_to_array(image1)\n",
    "image2 = img_to_array(image2)\n",
    "\n",
    "# reshape data for the model\n",
    "image1 = image1.reshape((1, image1.shape[0], image1.shape[1], image1.shape[2]))\n",
    "image2 = image2.reshape((1, image2.shape[0], image2.shape[1], image2.shape[2]))\n",
    "\n",
    "\n",
    "from keras.applications.vgg16 import preprocess_input\n",
    "# prepare the image for the VGG model\n",
    "image1 = preprocess_input(image1)\n",
    "image2 = preprocess_input(image2)\n",
    "\n",
    "# predict the probability across all output classes\n",
    "yhat1_base = basemodel1.predict(image1)\n",
    "yhat2_base = basemodel1.predict(image2)\n",
    "\n",
    "#cosine similarity\n",
    "A = yhat1_base[0]\n",
    "B = yhat2_base[0]\n",
    "\n",
    "cosine = np.dot(A,B)/(norm(A)*norm(B))\n",
    "print(\"Cosine Similarity:\", cosine)"
   ]
  },
  {
   "cell_type": "code",
   "execution_count": 27,
   "metadata": {},
   "outputs": [
    {
     "name": "stdout",
     "output_type": "stream",
     "text": [
      "1/1 [==============================] - 0s 113ms/step\n",
      "1/1 [==============================] - 0s 105ms/step\n",
      "Cosine Similarity: 0.0\n"
     ]
    }
   ],
   "source": [
    "#predicting\n",
    "from tensorflow.keras.preprocessing.image import load_img\n",
    "# load an image from file\n",
    "image1 = load_img('New folder/test/test.png', target_size=(224, 224))\n",
    "image2 = load_img('New folder/test/test3.png', target_size=(224, 224))\n",
    "\n",
    "\n",
    "from tensorflow.keras.preprocessing.image import img_to_array\n",
    "image1 = img_to_array(image1)\n",
    "image2 = img_to_array(image2)\n",
    "\n",
    "# reshape data for the model\n",
    "image1 = image1.reshape((1, image1.shape[0], image1.shape[1], image1.shape[2]))\n",
    "image2 = image2.reshape((1, image2.shape[0], image2.shape[1], image2.shape[2]))\n",
    "\n",
    "\n",
    "from keras.applications.vgg16 import preprocess_input\n",
    "# prepare the image for the VGG model\n",
    "image1 = preprocess_input(image1)\n",
    "image2 = preprocess_input(image2)\n",
    "\n",
    "# predict the probability across all output classes\n",
    "yhat1_base = basemodel1.predict(image1)\n",
    "yhat2_base = basemodel1.predict(image2)\n",
    "\n",
    "#cosine similarity\n",
    "A = yhat1_base[0]\n",
    "B = yhat2_base[0]\n",
    "\n",
    "cosine = np.dot(A,B)/(norm(A)*norm(B))\n",
    "print(\"Cosine Similarity:\", cosine)"
   ]
  },
  {
   "cell_type": "code",
   "execution_count": 26,
   "metadata": {},
   "outputs": [
    {
     "name": "stdout",
     "output_type": "stream",
     "text": [
      "1/1 [==============================] - 0s 106ms/step\n",
      "1/1 [==============================] - 0s 108ms/step\n",
      "Cosine Similarity: 0.0\n"
     ]
    }
   ],
   "source": [
    "#predicting\n",
    "from tensorflow.keras.preprocessing.image import load_img\n",
    "# load an image from file\n",
    "image1 = load_img('New folder/test/test.png', target_size=(224, 224))\n",
    "image2 = load_img('New folder/test/test7.jpeg', target_size=(224, 224))\n",
    "\n",
    "\n",
    "from tensorflow.keras.preprocessing.image import img_to_array\n",
    "image1 = img_to_array(image1)\n",
    "image2 = img_to_array(image2)\n",
    "\n",
    "# reshape data for the model\n",
    "image1 = image1.reshape((1, image1.shape[0], image1.shape[1], image1.shape[2]))\n",
    "image2 = image2.reshape((1, image2.shape[0], image2.shape[1], image2.shape[2]))\n",
    "\n",
    "\n",
    "from keras.applications.vgg16 import preprocess_input\n",
    "# prepare the image for the VGG model\n",
    "image1 = preprocess_input(image1)\n",
    "image2 = preprocess_input(image2)\n",
    "\n",
    "# predict the probability across all output classes\n",
    "yhat1_base = basemodel1.predict(image1)\n",
    "yhat2_base = basemodel1.predict(image2)\n",
    "\n",
    "#cosine similarity\n",
    "A = yhat1_base[0]\n",
    "B = yhat2_base[0]\n",
    "\n",
    "cosine = np.dot(A,B)/(norm(A)*norm(B))\n",
    "print(\"Cosine Similarity:\", cosine)"
   ]
  },
  {
   "cell_type": "code",
   "execution_count": 28,
   "metadata": {},
   "outputs": [
    {
     "name": "stdout",
     "output_type": "stream",
     "text": [
      "1/1 [==============================] - 0s 107ms/step\n",
      "1/1 [==============================] - 0s 128ms/step\n",
      "Cosine Similarity: 1.0\n"
     ]
    }
   ],
   "source": [
    "#predicting\n",
    "from tensorflow.keras.preprocessing.image import load_img\n",
    "# load an image from file\n",
    "image1 = load_img('New folder/test/test5.png', target_size=(224, 224))\n",
    "image2 = load_img('New folder/test/test6.jpg', target_size=(224, 224))\n",
    "\n",
    "\n",
    "from tensorflow.keras.preprocessing.image import img_to_array\n",
    "image1 = img_to_array(image1)\n",
    "image2 = img_to_array(image2)\n",
    "\n",
    "# reshape data for the model\n",
    "image1 = image1.reshape((1, image1.shape[0], image1.shape[1], image1.shape[2]))\n",
    "image2 = image2.reshape((1, image2.shape[0], image2.shape[1], image2.shape[2]))\n",
    "\n",
    "\n",
    "from keras.applications.vgg16 import preprocess_input\n",
    "# prepare the image for the VGG model\n",
    "image1 = preprocess_input(image1)\n",
    "image2 = preprocess_input(image2)\n",
    "\n",
    "# predict the probability across all output classes\n",
    "yhat1_base = basemodel1.predict(image1)\n",
    "yhat2_base = basemodel1.predict(image2)\n",
    "\n",
    "#cosine similarity\n",
    "A = yhat1_base[0]\n",
    "B = yhat2_base[0]\n",
    "\n",
    "cosine = np.dot(A,B)/(norm(A)*norm(B))\n",
    "print(\"Cosine Similarity:\", cosine)"
   ]
  },
  {
   "cell_type": "code",
   "execution_count": 29,
   "metadata": {},
   "outputs": [
    {
     "name": "stdout",
     "output_type": "stream",
     "text": [
      "1/1 [==============================] - 0s 109ms/step\n",
      "1/1 [==============================] - 0s 106ms/step\n",
      "Cosine Similarity: 0.86791754\n"
     ]
    }
   ],
   "source": [
    "#predicting\n",
    "from tensorflow.keras.preprocessing.image import load_img\n",
    "# load an image from file\n",
    "image1 = load_img('New folder/test/test6.jpg', target_size=(224, 224))\n",
    "image2 = load_img('New folder/test/test7.jpeg', target_size=(224, 224))\n",
    "\n",
    "\n",
    "from tensorflow.keras.preprocessing.image import img_to_array\n",
    "image1 = img_to_array(image1)\n",
    "image2 = img_to_array(image2)\n",
    "\n",
    "# reshape data for the model\n",
    "image1 = image1.reshape((1, image1.shape[0], image1.shape[1], image1.shape[2]))\n",
    "image2 = image2.reshape((1, image2.shape[0], image2.shape[1], image2.shape[2]))\n",
    "\n",
    "\n",
    "from keras.applications.vgg16 import preprocess_input\n",
    "# prepare the image for the VGG model\n",
    "image1 = preprocess_input(image1)\n",
    "image2 = preprocess_input(image2)\n",
    "\n",
    "# predict the probability across all output classes\n",
    "yhat1_base = basemodel1.predict(image1)\n",
    "yhat2_base = basemodel1.predict(image2)\n",
    "\n",
    "#cosine similarity\n",
    "A = yhat1_base[0]\n",
    "B = yhat2_base[0]\n",
    "\n",
    "cosine = np.dot(A,B)/(norm(A)*norm(B))\n",
    "print(\"Cosine Similarity:\", cosine)"
   ]
  },
  {
   "cell_type": "code",
   "execution_count": 30,
   "metadata": {},
   "outputs": [
    {
     "name": "stdout",
     "output_type": "stream",
     "text": [
      "1/1 [==============================] - 0s 118ms/step\n",
      "1/1 [==============================] - 0s 110ms/step\n",
      "Cosine Similarity: 0.88533235\n"
     ]
    }
   ],
   "source": [
    "#predicting\n",
    "from tensorflow.keras.preprocessing.image import load_img\n",
    "# load an image from file\n",
    "image1 = load_img('New folder/test/test2VS2.png', target_size=(224, 224))\n",
    "image2 = load_img('New folder/test/test2.jpg', target_size=(224, 224))\n",
    "\n",
    "\n",
    "from tensorflow.keras.preprocessing.image import img_to_array\n",
    "image1 = img_to_array(image1)\n",
    "image2 = img_to_array(image2)\n",
    "\n",
    "# reshape data for the model\n",
    "image1 = image1.reshape((1, image1.shape[0], image1.shape[1], image1.shape[2]))\n",
    "image2 = image2.reshape((1, image2.shape[0], image2.shape[1], image2.shape[2]))\n",
    "\n",
    "\n",
    "from keras.applications.vgg16 import preprocess_input\n",
    "# prepare the image for the VGG model\n",
    "image1 = preprocess_input(image1)\n",
    "image2 = preprocess_input(image2)\n",
    "\n",
    "# predict the probability across all output classes\n",
    "yhat1_base = basemodel1.predict(image1)\n",
    "yhat2_base = basemodel1.predict(image2)\n",
    "\n",
    "#cosine similarity\n",
    "A = yhat1_base[0]\n",
    "B = yhat2_base[0]\n",
    "\n",
    "cosine = np.dot(A,B)/(norm(A)*norm(B))\n",
    "print(\"Cosine Similarity:\", cosine)"
   ]
  },
  {
   "cell_type": "code",
   "execution_count": 45,
   "metadata": {},
   "outputs": [
    {
     "name": "stdout",
     "output_type": "stream",
     "text": [
      "1/1 [==============================] - 0s 119ms/step\n",
      "1/1 [==============================] - 0s 107ms/step\n",
      "Cosine Similarity: 0.9749299\n"
     ]
    }
   ],
   "source": [
    "#predicting\n",
    "from tensorflow.keras.preprocessing.image import load_img\n",
    "# load an image from file\n",
    "image1 = load_img('New folder/test/test2VS4.jpg', target_size=(224, 224))\n",
    "image2 = load_img('New folder/test/test2.jpg', target_size=(224, 224))\n",
    "\n",
    "\n",
    "from tensorflow.keras.preprocessing.image import img_to_array\n",
    "image1 = img_to_array(image1)\n",
    "image2 = img_to_array(image2)\n",
    "\n",
    "# reshape data for the model\n",
    "image1 = image1.reshape((1, image1.shape[0], image1.shape[1], image1.shape[2]))\n",
    "image2 = image2.reshape((1, image2.shape[0], image2.shape[1], image2.shape[2]))\n",
    "\n",
    "\n",
    "from keras.applications.vgg16 import preprocess_input\n",
    "# prepare the image for the VGG model\n",
    "image1 = preprocess_input(image1)\n",
    "image2 = preprocess_input(image2)\n",
    "\n",
    "# predict the probability across all output classes\n",
    "yhat1_base = basemodel1.predict(image1)\n",
    "yhat2_base = basemodel1.predict(image2)\n",
    "\n",
    "#cosine similarity\n",
    "A = yhat1_base[0]\n",
    "B = yhat2_base[0]\n",
    "\n",
    "cosine = np.dot(A,B)/(norm(A)*norm(B))\n",
    "print(\"Cosine Similarity:\", cosine)"
   ]
  },
  {
   "cell_type": "code",
   "execution_count": 44,
   "metadata": {},
   "outputs": [
    {
     "name": "stdout",
     "output_type": "stream",
     "text": [
      "1/1 [==============================] - 0s 117ms/step\n",
      "1/1 [==============================] - 0s 107ms/step\n",
      "Cosine Similarity: 0.0\n"
     ]
    }
   ],
   "source": [
    "#predicting\n",
    "from tensorflow.keras.preprocessing.image import load_img\n",
    "# load an image from file\n",
    "image1 = load_img('New folder/test/test2VS4.jpg', target_size=(224, 224))\n",
    "image2 = load_img('New folder/test/test8.jpeg', target_size=(224, 224))\n",
    "\n",
    "\n",
    "from tensorflow.keras.preprocessing.image import img_to_array\n",
    "image1 = img_to_array(image1)\n",
    "image2 = img_to_array(image2)\n",
    "\n",
    "# reshape data for the model\n",
    "image1 = image1.reshape((1, image1.shape[0], image1.shape[1], image1.shape[2]))\n",
    "image2 = image2.reshape((1, image2.shape[0], image2.shape[1], image2.shape[2]))\n",
    "\n",
    "\n",
    "from keras.applications.vgg16 import preprocess_input\n",
    "# prepare the image for the VGG model\n",
    "image1 = preprocess_input(image1)\n",
    "image2 = preprocess_input(image2)\n",
    "\n",
    "# predict the probability across all output classes\n",
    "yhat1_base = basemodel1.predict(image1)\n",
    "yhat2_base = basemodel1.predict(image2)\n",
    "\n",
    "#cosine similarity\n",
    "A = yhat1_base[0]\n",
    "B = yhat2_base[0]\n",
    "\n",
    "cosine = np.dot(A,B)/(norm(A)*norm(B))\n",
    "print(\"Cosine Similarity:\", cosine)"
   ]
  },
  {
   "cell_type": "code",
   "execution_count": 33,
   "metadata": {},
   "outputs": [
    {
     "name": "stdout",
     "output_type": "stream",
     "text": [
      "1/1 [==============================] - 0s 109ms/step\n",
      "1/1 [==============================] - 0s 100ms/step\n",
      "Cosine Similarity: 0.99899596\n"
     ]
    }
   ],
   "source": [
    "#predicting\n",
    "from tensorflow.keras.preprocessing.image import load_img\n",
    "# load an image from file\n",
    "image1 = load_img('New folder/test/test2VS4.jpg', target_size=(224, 224))\n",
    "image2 = load_img('New folder/test/test2VS3.jpeg', target_size=(224, 224))\n",
    "\n",
    "\n",
    "from tensorflow.keras.preprocessing.image import img_to_array\n",
    "image1 = img_to_array(image1)\n",
    "image2 = img_to_array(image2)\n",
    "\n",
    "# reshape data for the model\n",
    "image1 = image1.reshape((1, image1.shape[0], image1.shape[1], image1.shape[2]))\n",
    "image2 = image2.reshape((1, image2.shape[0], image2.shape[1], image2.shape[2]))\n",
    "\n",
    "\n",
    "from keras.applications.vgg16 import preprocess_input\n",
    "# prepare the image for the VGG model\n",
    "image1 = preprocess_input(image1)\n",
    "image2 = preprocess_input(image2)\n",
    "\n",
    "# predict the probability across all output classes\n",
    "yhat1_base = basemodel1.predict(image1)\n",
    "yhat2_base = basemodel1.predict(image2)\n",
    "\n",
    "#cosine similarity\n",
    "A = yhat1_base[0]\n",
    "B = yhat2_base[0]\n",
    "\n",
    "cosine = np.dot(A,B)/(norm(A)*norm(B))\n",
    "print(\"Cosine Similarity:\", cosine)"
   ]
  },
  {
   "cell_type": "code",
   "execution_count": 35,
   "metadata": {},
   "outputs": [
    {
     "name": "stdout",
     "output_type": "stream",
     "text": [
      "1/1 [==============================] - 0s 104ms/step\n",
      "1/1 [==============================] - 0s 108ms/step\n",
      "Cosine Similarity: 0.0\n"
     ]
    }
   ],
   "source": [
    "#predicting\n",
    "from tensorflow.keras.preprocessing.image import load_img\n",
    "# load an image from file\n",
    "image1 = load_img('New folder/test/test2VS.jpeg', target_size=(224, 224))\n",
    "image2 = load_img('New folder/test/test3.png', target_size=(224, 224))\n",
    "\n",
    "\n",
    "from tensorflow.keras.preprocessing.image import img_to_array\n",
    "image1 = img_to_array(image1)\n",
    "image2 = img_to_array(image2)\n",
    "\n",
    "# reshape data for the model\n",
    "image1 = image1.reshape((1, image1.shape[0], image1.shape[1], image1.shape[2]))\n",
    "image2 = image2.reshape((1, image2.shape[0], image2.shape[1], image2.shape[2]))\n",
    "\n",
    "\n",
    "from keras.applications.vgg16 import preprocess_input\n",
    "# prepare the image for the VGG model\n",
    "image1 = preprocess_input(image1)\n",
    "image2 = preprocess_input(image2)\n",
    "\n",
    "# predict the probability across all output classes\n",
    "yhat1_base = basemodel1.predict(image1)\n",
    "yhat2_base = basemodel1.predict(image2)\n",
    "\n",
    "#cosine similarity\n",
    "A = yhat1_base[0]\n",
    "B = yhat2_base[0]\n",
    "\n",
    "cosine = np.dot(A,B)/(norm(A)*norm(B))\n",
    "print(\"Cosine Similarity:\", cosine)"
   ]
  },
  {
   "cell_type": "code",
   "execution_count": null,
   "metadata": {},
   "outputs": [],
   "source": []
  }
 ],
 "metadata": {
  "kernelspec": {
   "display_name": "Python 3.9.12 ('base')",
   "language": "python",
   "name": "python3"
  },
  "language_info": {
   "codemirror_mode": {
    "name": "ipython",
    "version": 3
   },
   "file_extension": ".py",
   "mimetype": "text/x-python",
   "name": "python",
   "nbconvert_exporter": "python",
   "pygments_lexer": "ipython3",
   "version": "3.9.12"
  },
  "orig_nbformat": 4,
  "vscode": {
   "interpreter": {
    "hash": "a90aeebcf29d64a654773811cc170cb25061cb2498f10ac689db374c7bf325de"
   }
  }
 },
 "nbformat": 4,
 "nbformat_minor": 2
}
